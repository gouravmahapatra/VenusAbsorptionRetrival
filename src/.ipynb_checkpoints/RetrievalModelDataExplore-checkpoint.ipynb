{
 "cells": [
  {
   "cell_type": "markdown",
   "metadata": {},
   "source": [
    "# This notebook explores RT model data for absorption retrievals.\n",
    "\n",
    "## Author:  g.mahapatra@tudelft.nl\n",
    "\n"
   ]
  },
  {
   "cell_type": "code",
   "execution_count": 1,
   "metadata": {},
   "outputs": [],
   "source": [
    "import numpy as np\n",
    "import pandas as pd\n",
    "import matplotlib.pyplot as plt"
   ]
  },
  {
   "cell_type": "markdown",
   "metadata": {},
   "source": [
    "### Add the file path containing the results for various models."
   ]
  },
  {
   "cell_type": "code",
   "execution_count": 2,
   "metadata": {},
   "outputs": [
    {
     "ename": "OSError",
     "evalue": "/Users/gouravmahapatr/Dropbox/PhD/Codes/VenusAbsRetrival/results1/aerosols.in not found.",
     "output_type": "error",
     "traceback": [
      "\u001b[0;31m---------------------------------------------------------------------------\u001b[0m",
      "\u001b[0;31mOSError\u001b[0m                                   Traceback (most recent call last)",
      "\u001b[0;32m<ipython-input-2-06f2d1b55b1e>\u001b[0m in \u001b[0;36m<module>\u001b[0;34m()\u001b[0m\n\u001b[1;32m      2\u001b[0m \u001b[0;34m\u001b[0m\u001b[0m\n\u001b[1;32m      3\u001b[0m \u001b[0;31m# load the aerosols.in file used to create the models.\u001b[0m\u001b[0;34m\u001b[0m\u001b[0;34m\u001b[0m\u001b[0;34m\u001b[0m\u001b[0m\n\u001b[0;32m----> 4\u001b[0;31m \u001b[0maerosols\u001b[0m \u001b[0;34m=\u001b[0m \u001b[0mnp\u001b[0m\u001b[0;34m.\u001b[0m\u001b[0mloadtxt\u001b[0m\u001b[0;34m(\u001b[0m\u001b[0mpath\u001b[0m\u001b[0;34m+\u001b[0m\u001b[0;34m'aerosols.in'\u001b[0m\u001b[0;34m)\u001b[0m\u001b[0;34m\u001b[0m\u001b[0;34m\u001b[0m\u001b[0m\n\u001b[0m\u001b[1;32m      5\u001b[0m \u001b[0mprint\u001b[0m\u001b[0;34m(\u001b[0m\u001b[0;34m'Shape of aerosols:'\u001b[0m\u001b[0;34m,\u001b[0m\u001b[0maerosols\u001b[0m\u001b[0;34m.\u001b[0m\u001b[0mshape\u001b[0m\u001b[0;34m)\u001b[0m\u001b[0;34m\u001b[0m\u001b[0;34m\u001b[0m\u001b[0m\n\u001b[1;32m      6\u001b[0m \u001b[0;34m\u001b[0m\u001b[0m\n",
      "\u001b[0;32m~/anaconda3/lib/python3.7/site-packages/numpy/lib/npyio.py\u001b[0m in \u001b[0;36mloadtxt\u001b[0;34m(fname, dtype, comments, delimiter, converters, skiprows, usecols, unpack, ndmin, encoding, max_rows)\u001b[0m\n\u001b[1;32m    979\u001b[0m             \u001b[0mfname\u001b[0m \u001b[0;34m=\u001b[0m \u001b[0mos_fspath\u001b[0m\u001b[0;34m(\u001b[0m\u001b[0mfname\u001b[0m\u001b[0;34m)\u001b[0m\u001b[0;34m\u001b[0m\u001b[0;34m\u001b[0m\u001b[0m\n\u001b[1;32m    980\u001b[0m         \u001b[0;32mif\u001b[0m \u001b[0m_is_string_like\u001b[0m\u001b[0;34m(\u001b[0m\u001b[0mfname\u001b[0m\u001b[0;34m)\u001b[0m\u001b[0;34m:\u001b[0m\u001b[0;34m\u001b[0m\u001b[0;34m\u001b[0m\u001b[0m\n\u001b[0;32m--> 981\u001b[0;31m             \u001b[0mfh\u001b[0m \u001b[0;34m=\u001b[0m \u001b[0mnp\u001b[0m\u001b[0;34m.\u001b[0m\u001b[0mlib\u001b[0m\u001b[0;34m.\u001b[0m\u001b[0m_datasource\u001b[0m\u001b[0;34m.\u001b[0m\u001b[0mopen\u001b[0m\u001b[0;34m(\u001b[0m\u001b[0mfname\u001b[0m\u001b[0;34m,\u001b[0m \u001b[0;34m'rt'\u001b[0m\u001b[0;34m,\u001b[0m \u001b[0mencoding\u001b[0m\u001b[0;34m=\u001b[0m\u001b[0mencoding\u001b[0m\u001b[0;34m)\u001b[0m\u001b[0;34m\u001b[0m\u001b[0;34m\u001b[0m\u001b[0m\n\u001b[0m\u001b[1;32m    982\u001b[0m             \u001b[0mfencoding\u001b[0m \u001b[0;34m=\u001b[0m \u001b[0mgetattr\u001b[0m\u001b[0;34m(\u001b[0m\u001b[0mfh\u001b[0m\u001b[0;34m,\u001b[0m \u001b[0;34m'encoding'\u001b[0m\u001b[0;34m,\u001b[0m \u001b[0;34m'latin1'\u001b[0m\u001b[0;34m)\u001b[0m\u001b[0;34m\u001b[0m\u001b[0;34m\u001b[0m\u001b[0m\n\u001b[1;32m    983\u001b[0m             \u001b[0mfh\u001b[0m \u001b[0;34m=\u001b[0m \u001b[0miter\u001b[0m\u001b[0;34m(\u001b[0m\u001b[0mfh\u001b[0m\u001b[0;34m)\u001b[0m\u001b[0;34m\u001b[0m\u001b[0;34m\u001b[0m\u001b[0m\n",
      "\u001b[0;32m~/anaconda3/lib/python3.7/site-packages/numpy/lib/_datasource.py\u001b[0m in \u001b[0;36mopen\u001b[0;34m(path, mode, destpath, encoding, newline)\u001b[0m\n\u001b[1;32m    267\u001b[0m \u001b[0;34m\u001b[0m\u001b[0m\n\u001b[1;32m    268\u001b[0m     \u001b[0mds\u001b[0m \u001b[0;34m=\u001b[0m \u001b[0mDataSource\u001b[0m\u001b[0;34m(\u001b[0m\u001b[0mdestpath\u001b[0m\u001b[0;34m)\u001b[0m\u001b[0;34m\u001b[0m\u001b[0;34m\u001b[0m\u001b[0m\n\u001b[0;32m--> 269\u001b[0;31m     \u001b[0;32mreturn\u001b[0m \u001b[0mds\u001b[0m\u001b[0;34m.\u001b[0m\u001b[0mopen\u001b[0m\u001b[0;34m(\u001b[0m\u001b[0mpath\u001b[0m\u001b[0;34m,\u001b[0m \u001b[0mmode\u001b[0m\u001b[0;34m,\u001b[0m \u001b[0mencoding\u001b[0m\u001b[0;34m=\u001b[0m\u001b[0mencoding\u001b[0m\u001b[0;34m,\u001b[0m \u001b[0mnewline\u001b[0m\u001b[0;34m=\u001b[0m\u001b[0mnewline\u001b[0m\u001b[0;34m)\u001b[0m\u001b[0;34m\u001b[0m\u001b[0;34m\u001b[0m\u001b[0m\n\u001b[0m\u001b[1;32m    270\u001b[0m \u001b[0;34m\u001b[0m\u001b[0m\n\u001b[1;32m    271\u001b[0m \u001b[0;34m\u001b[0m\u001b[0m\n",
      "\u001b[0;32m~/anaconda3/lib/python3.7/site-packages/numpy/lib/_datasource.py\u001b[0m in \u001b[0;36mopen\u001b[0;34m(self, path, mode, encoding, newline)\u001b[0m\n\u001b[1;32m    621\u001b[0m                                       encoding=encoding, newline=newline)\n\u001b[1;32m    622\u001b[0m         \u001b[0;32melse\u001b[0m\u001b[0;34m:\u001b[0m\u001b[0;34m\u001b[0m\u001b[0;34m\u001b[0m\u001b[0m\n\u001b[0;32m--> 623\u001b[0;31m             \u001b[0;32mraise\u001b[0m \u001b[0mIOError\u001b[0m\u001b[0;34m(\u001b[0m\u001b[0;34m\"%s not found.\"\u001b[0m \u001b[0;34m%\u001b[0m \u001b[0mpath\u001b[0m\u001b[0;34m)\u001b[0m\u001b[0;34m\u001b[0m\u001b[0;34m\u001b[0m\u001b[0m\n\u001b[0m\u001b[1;32m    624\u001b[0m \u001b[0;34m\u001b[0m\u001b[0m\n\u001b[1;32m    625\u001b[0m \u001b[0;34m\u001b[0m\u001b[0m\n",
      "\u001b[0;31mOSError\u001b[0m: /Users/gouravmahapatr/Dropbox/PhD/Codes/VenusAbsRetrival/results1/aerosols.in not found."
     ]
    }
   ],
   "source": [
    "path = '/Users/gouravmahapatr/Dropbox/PhD/Codes/VenusAbsRetrival/results1/'\n",
    "\n",
    "# load the aerosols.in file used to create the models.\n",
    "aerosols = np.loadtxt(path+'aerosols.in')\n",
    "print('Shape of aerosols:',aerosols.shape)\n",
    "\n",
    "# load the wavelength points \n",
    "wav = np.load(path+'wav.npy')\n",
    "print('Wavelengths(microns):',wav)\n",
    "\n",
    "# load the geometries file\n",
    "geom = np.loadtxt(path+'geos.in',skiprows=4)\n",
    "print('Shape of Geometries:',geom.shape)\n",
    "#print(geom)\n",
    "geomdf = pd.DataFrame(geom,columns=['alpha','theta0','theta','phi','beta'])\n",
    "\n",
    "# make a dataframe to view the data\n",
    "columns = ['ScaleHeightModel','CloudWidth(km)','CloudScaleHeight(km)','CloudTopAltitude(km)','CloudOpacity','HazeScaleHeight(km)','HazeOpacity','ProfileNum']\n",
    "aerosolsdf = pd.DataFrame(aerosols,columns=columns)\n",
    "aerosolsdf\n",
    "#geom.head(10)"
   ]
  },
  {
   "cell_type": "markdown",
   "metadata": {},
   "source": [
    "### Add the file path containing the results for various models.\n",
    "\n",
    "Make a loop over all the models and gather them into one array. "
   ]
  },
  {
   "cell_type": "code",
   "execution_count": null,
   "metadata": {},
   "outputs": [],
   "source": [
    "# make an empty list\n",
    "results = []\n",
    "for i in range(len(aerosols)):\n",
    "    try:\n",
    "        results.append(np.load(path+'kspectra_{:05d}.npy'.format(i)))\n",
    "    except:\n",
    "        pass # donothing\n",
    "# convert into an array \n",
    "results = np.array(results)"
   ]
  },
  {
   "cell_type": "markdown",
   "metadata": {},
   "source": [
    "## Print the shape. The shape should be: \n",
    "     [no.of models,no.of geometries,Stokes(I Q U),lambda]"
   ]
  },
  {
   "cell_type": "code",
   "execution_count": null,
   "metadata": {},
   "outputs": [],
   "source": [
    "print('Shape =',results.shape)\n",
    "results[0,0,0,0]"
   ]
  },
  {
   "cell_type": "markdown",
   "metadata": {},
   "source": [
    "## Make a dataframe containing all the data"
   ]
  },
  {
   "cell_type": "code",
   "execution_count": null,
   "metadata": {},
   "outputs": [],
   "source": [
    "# flatten the array\n",
    "results_flat = []\n",
    "for i in range(len(results[:,0,0,0])):\n",
    "    for j in range(len(results[0,:,0,0])):\n",
    "        for k in range(len(results[0,0,0,:])):\n",
    "            results_flat.append([i+1,j,wav[k],results[i,j,0,k],results[i,j,1,k],results[i,j,2,k]])\n",
    "# convert into array\n",
    "results_flat = np.array(results_flat)\n",
    "# convert into DataFrame\n",
    "df = pd.DataFrame(results_flat,columns=['ModelNum','GeomNum','Lambda','F','Q','U'])\n",
    "\n",
    "# add the degree of polarization column\n",
    "df['P'] = -df['Q']/df['F']\n",
    "\n",
    "# modify the lambda into nanometers\n",
    "df['Lambda'] = np.round(df['Lambda']*1e3)\n",
    "# convert into int type\n",
    "df['Lambda'] = df['Lambda'].astype(int)\n",
    "\n",
    "print('Shape of data:',df.shape)\n",
    "df.head(100)\n"
   ]
  },
  {
   "cell_type": "code",
   "execution_count": null,
   "metadata": {},
   "outputs": [],
   "source": [
    "## Merge the aerosol data into the dataframe\n",
    "df = pd.merge(df,aerosolsdf,left_on=['ModelNum'],right_on=['ProfileNum'],how='left')\n",
    "# drop the profileNum column\n",
    "df = df.drop('ProfileNum',axis=1)\n",
    "df = df.drop(['ScaleHeightModel','CloudWidth(km)'],axis=1)\n",
    "\n",
    "# Merge the geometry data into the dataframe\n",
    "df = pd.merge(df,geomdf,left_on=['GeomNum'],right_on=['theta0'],how='left')\n",
    "\n",
    "# rename some of the columns for convenience\n",
    "df = df.rename(columns={'CloudScaleHeight(km)':'CSH(km)','CloudTopAltitude(km)':'CTA(km)','CloudOpacity':'CO',\n",
    "                   'HazeScaleHeight(km)':'HSH(km)','HazeOpacity':'HO'})\n",
    "\n",
    "df.head(100)"
   ]
  },
  {
   "cell_type": "markdown",
   "metadata": {},
   "source": [
    "## Here we start the exploration"
   ]
  },
  {
   "cell_type": "code",
   "execution_count": null,
   "metadata": {},
   "outputs": [],
   "source": [
    "# visualize the wavelengths chosen, on the absorption spectra \n",
    "kspectra = np.load('/Users/gouravmahapatr/Dropbox/PhD/Codes/VenusAbsCode/fullKDIS/results/all_models_paper/kspectra_00008.npy')\n",
    "wav0 = np.load('/Users/gouravmahapatr/Dropbox/PhD/Codes/VenusAbsCode/fullKDIS/results/all_models_paper/wav.npy')\n",
    "print(kspectra.shape)\n",
    "plt.plot(wav0,kspectra[30,0,:])\n",
    "plt.scatter(wav0[0],kspectra[30,0,0],c='k')\n",
    "plt.scatter(wav0[9],kspectra[30,0,9],c='k')\n",
    "plt.scatter(wav0[20],kspectra[30,0,20],c='k')\n",
    "plt.scatter(wav0[25],kspectra[30,0,25],c='k')\n",
    "plt.scatter(wav0[30],kspectra[30,0,30],c='k')\n",
    "plt.scatter(wav0[30],kspectra[30,0,30],c='k')\n",
    "plt.scatter(wav0[45],kspectra[30,0,45],c='k')\n",
    "plt.xlabel('Wavelength (microns)',fontsize='large')\n",
    "plt.ylabel('Flux',fontsize='large')\n",
    "plt.grid()\n",
    "#print(wav0)"
   ]
  },
  {
   "cell_type": "code",
   "execution_count": null,
   "metadata": {},
   "outputs": [],
   "source": [
    "plt.figure(figsize=[14,10])\n",
    "plt.scatter(df[df['Lambda']==1400]['F'],df[df['Lambda']==1400]['P'],label='1400 nm')\n",
    "plt.scatter(df[df['Lambda']==1425]['F'],df[df['Lambda']==1425]['P'],label='1425 nm')\n",
    "plt.scatter(df[df['Lambda']==1435]['F'],df[df['Lambda']==1435]['P'],label='1435 nm')\n",
    "plt.scatter(df[df['Lambda']==1440]['F'],df[df['Lambda']==1440]['P'],label='1440 nm')\n",
    "plt.scatter(df[df['Lambda']==1445]['F'],df[df['Lambda']==1445]['P'],label='1445 nm')\n",
    "plt.scatter(df[df['Lambda']==1455]['F'],df[df['Lambda']==1455]['P'],label='1455 nm')\n",
    "plt.xlabel('Flux',fontsize='large')\n",
    "plt.ylabel('Polarization',fontsize='large')\n",
    "plt.legend()\n",
    "plt.grid()"
   ]
  },
  {
   "cell_type": "code",
   "execution_count": null,
   "metadata": {},
   "outputs": [],
   "source": [
    "# visulaise the dataset with cloud top variation\n",
    "df[(df['CTA(km)']==65.0)&(df['theta0']==60)]"
   ]
  },
  {
   "cell_type": "code",
   "execution_count": null,
   "metadata": {},
   "outputs": [],
   "source": [
    "# plot all the wavelength data at specific cloud tops \n",
    "%matplotlib inline\n",
    "sza = 80\n",
    "plt.figure(figsize=[20,6])\n",
    "plt.subplot(131)\n",
    "idx = (df['CTA(km)']==60.0)&(df['theta0']==sza)\n",
    "plt.scatter(df[idx]['Lambda'],df[idx]['F'],label='60 km')\n",
    "idx = (df['CTA(km)']==65.0)&(df['theta0']==sza)\n",
    "plt.scatter(df[idx]['Lambda'],df[idx]['F'],label='65 km')\n",
    "idx = (df['CTA(km)']==70.0)&(df['theta0']==sza)\n",
    "plt.scatter(df[idx]['Lambda'],df[idx]['F'],label='70 km')\n",
    "idx = (df['CTA(km)']==75.0)&(df['theta0']==sza)\n",
    "plt.scatter(df[idx]['Lambda'],df[idx]['F'],label='75 km')\n",
    "plt.xlabel('Wavelength (nm)',fontsize='large')\n",
    "plt.ylabel('$F$',fontsize='large')\n",
    "\n",
    "plt.subplot(132)\n",
    "plt.title('Cloud top variation (SZA = {:02d} deg)'.format(sza))\n",
    "idx = (df['CTA(km)']==60.0)&(df['theta0']==sza)\n",
    "plt.scatter(df[idx]['Lambda'],df[idx]['Q'],label='60 km')\n",
    "idx = (df['CTA(km)']==65.0)&(df['theta0']==sza)\n",
    "plt.scatter(df[idx]['Lambda'],df[idx]['Q'],label='65 km')\n",
    "idx = (df['CTA(km)']==70.0)&(df['theta0']==sza)\n",
    "plt.scatter(df[idx]['Lambda'],df[idx]['Q'],label='70 km')\n",
    "idx = (df['CTA(km)']==75.0)&(df['theta0']==sza)\n",
    "plt.scatter(df[idx]['Lambda'],df[idx]['Q'],label='75 km')\n",
    "#plt.ylim([0.004,0.0055])\n",
    "plt.legend()\n",
    "plt.xlabel('Wavelength (nm)',fontsize='large')\n",
    "plt.ylabel('$Q$',fontsize='large')\n",
    "\n",
    "plt.subplot(133)\n",
    "idx = (df['CTA(km)']==60.0)&(df['theta0']==sza)\n",
    "plt.scatter(df[idx]['Lambda'],df[idx]['P'],label='60 km')\n",
    "idx = (df['CTA(km)']==65.0)&(df['theta0']==sza)\n",
    "plt.scatter(df[idx]['Lambda'],df[idx]['P'],label='65 km')\n",
    "idx = (df['CTA(km)']==70.0)&(df['theta0']==sza)\n",
    "plt.scatter(df[idx]['Lambda'],df[idx]['P'],label='70 km')\n",
    "idx = (df['CTA(km)']==75.0)&(df['theta0']==sza)\n",
    "plt.scatter(df[idx]['Lambda'],df[idx]['P'],label='75 km')\n",
    "#plt.ylim([-0.0075,-0.005])\n",
    "plt.xlabel('Wavelength (nm)',fontsize='large')\n",
    "plt.ylabel('$P$',fontsize='large')\n",
    "#plt.show()\n",
    "plt.tight_layout()"
   ]
  },
  {
   "cell_type": "code",
   "execution_count": null,
   "metadata": {},
   "outputs": [],
   "source": [
    "# visulaise the dataset with cloud scale height variation\n",
    "df[(df['CSH(km)']==4.0)&(df['theta0']==60)]"
   ]
  },
  {
   "cell_type": "code",
   "execution_count": null,
   "metadata": {},
   "outputs": [],
   "source": [
    "# plot all the wavelength data at specific cloud scale heights \n",
    "%matplotlib inline\n",
    "sza = 60\n",
    "plt.figure(figsize=[20,6])\n",
    "plt.subplot(131)\n",
    "idx = (df['CSH(km)']==2.0)&(df['theta0']==sza)\n",
    "plt.scatter(df[idx]['Lambda'],df[idx]['F'],label='2 km')\n",
    "idx = (df['CSH(km)']==4.0)&(df['theta0']==sza)\n",
    "plt.scatter(df[idx]['Lambda'],df[idx]['F'],label='4 km')\n",
    "idx = (df['CSH(km)']==6.0)&(df['theta0']==sza)\n",
    "plt.scatter(df[idx]['Lambda'],df[idx]['F'],label='6 km')\n",
    "plt.xlabel('Wavelength (nm)',fontsize='large')\n",
    "plt.ylabel('$F$',fontsize='large')\n",
    "\n",
    "plt.subplot(132)\n",
    "plt.title('Cloud scale height variation (SZA = {:02d} deg)'.format(sza))\n",
    "idx = (df['CSH(km)']==2.0)&(df['theta0']==sza)\n",
    "plt.scatter(df[idx]['Lambda'],df[idx]['Q'],label='2 km')\n",
    "idx = (df['CSH(km)']==4.0)&(df['theta0']==sza)\n",
    "plt.scatter(df[idx]['Lambda'],df[idx]['Q'],label='4 km')\n",
    "idx = (df['CSH(km)']==6.0)&(df['theta0']==sza)\n",
    "plt.scatter(df[idx]['Lambda'],df[idx]['Q'],label='6 km')\n",
    "#plt.ylim([0.004,0.0055])\n",
    "plt.legend()\n",
    "plt.xlabel('Wavelength (nm)',fontsize='large')\n",
    "plt.ylabel('$Q$',fontsize='large')\n",
    "\n",
    "plt.subplot(133)\n",
    "idx = (df['CSH(km)']==2.0)&(df['theta0']==sza)\n",
    "plt.scatter(df[idx]['Lambda'],df[idx]['P'],label='2 km')\n",
    "idx = (df['CSH(km)']==4.0)&(df['theta0']==sza)\n",
    "plt.scatter(df[idx]['Lambda'],df[idx]['P'],label='4 km')\n",
    "idx = (df['CSH(km)']==6.0)&(df['theta0']==sza)\n",
    "plt.scatter(df[idx]['Lambda'],df[idx]['P'],label='6 km')\n",
    "#plt.ylim([-0.0075,-0.005])\n",
    "plt.xlabel('Wavelength (nm)',fontsize='large')\n",
    "plt.ylabel('$P$',fontsize='large')\n",
    "#plt.show()\n",
    "plt.tight_layout()"
   ]
  },
  {
   "cell_type": "code",
   "execution_count": null,
   "metadata": {},
   "outputs": [],
   "source": []
  }
 ],
 "metadata": {
  "kernelspec": {
   "display_name": "Python 3",
   "language": "python",
   "name": "python3"
  },
  "language_info": {
   "codemirror_mode": {
    "name": "ipython",
    "version": 3
   },
   "file_extension": ".py",
   "mimetype": "text/x-python",
   "name": "python",
   "nbconvert_exporter": "python",
   "pygments_lexer": "ipython3",
   "version": "3.7.1"
  }
 },
 "nbformat": 4,
 "nbformat_minor": 4
}
